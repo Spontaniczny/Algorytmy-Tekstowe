{
 "cells": [
  {
   "cell_type": "code",
   "execution_count": 51,
   "metadata": {
    "collapsed": true
   },
   "outputs": [],
   "source": [
    "from time import time\n"
   ]
  },
  {
   "cell_type": "code",
   "execution_count": 52,
   "outputs": [],
   "source": [
    "def count_time(func, *args, **kwargs):\n",
    "    start_time = time()\n",
    "    ret = func(*args, **kwargs)\n",
    "    return time() - start_time, ret"
   ],
   "metadata": {
    "collapsed": false
   }
  },
  {
   "cell_type": "markdown",
   "source": [
    "# Zad 1"
   ],
   "metadata": {
    "collapsed": false
   }
  },
  {
   "cell_type": "code",
   "execution_count": 53,
   "outputs": [],
   "source": [
    "def naive(text, pattern):\n",
    "    s = 0\n",
    "    for i in range(len(text) - len(pattern) + 1):\n",
    "        if pattern == text[i:i+len(pattern)]:\n",
    "            s += 1\n",
    "    return s\n",
    "\n",
    "def automat(text, delta):\n",
    "    q = 0\n",
    "    s = 0\n",
    "    for i in range(len(text)):\n",
    "        try:\n",
    "            q = delta[q][text[i]]\n",
    "        except KeyError:\n",
    "            q = 0\n",
    "        if q == len(delta) - 1:\n",
    "            s += 1\n",
    "    return s\n",
    "\n",
    "def build_delta(pattern):\n",
    "    delta = []\n",
    "    alphabet = build_alphabet(pattern)\n",
    "    for q in range(len(pattern) + 1):\n",
    "        delta.append({})\n",
    "        for a in alphabet:\n",
    "            k = min(len(pattern) + 1, q + 2)\n",
    "            while True:\n",
    "                k -= 1\n",
    "                if k == 0 or pattern[:k] == (pattern[:q] + a)[-k:]:\n",
    "                    break\n",
    "            delta[q][a] = k\n",
    "    return delta\n",
    "\n",
    "def build_alphabet(patter):\n",
    "    alphabet = []\n",
    "    for letter in patter:\n",
    "        if letter not in alphabet:\n",
    "            alphabet.append(letter)\n",
    "    return alphabet\n",
    "\n",
    "\n",
    "def prefix(pattern):\n",
    "    pi = [0]\n",
    "    k = 0\n",
    "    for q in range(1, len(pattern)):\n",
    "        while k > 0 and pattern[k] != pattern[q]:\n",
    "            k = pi[k-1]\n",
    "        if pattern[k] == pattern[q]:\n",
    "            k += 1\n",
    "        pi.append(k)\n",
    "    return pi\n",
    "\n",
    "def kmp(text, pattern):\n",
    "    pi = prefix(pattern)\n",
    "    q = 0\n",
    "    s = 0\n",
    "    for i in range(len(text)):\n",
    "        while q > 0 and pattern[q] != text[i]:\n",
    "            q = pi[q-1]\n",
    "        if pattern[q] == text[i]:\n",
    "            q += 1\n",
    "        if q == len(pattern):\n",
    "            s += 1\n",
    "            q = pi[q-1]\n",
    "    return s"
   ],
   "metadata": {
    "collapsed": false
   }
  },
  {
   "cell_type": "markdown",
   "source": [
    "# Zad 3"
   ],
   "metadata": {
    "collapsed": false
   }
  },
  {
   "cell_type": "code",
   "execution_count": 54,
   "outputs": [
    {
     "name": "stdout",
     "output_type": "stream",
     "text": [
      "pan\n",
      "525\n",
      "525\n",
      "525\n",
      "\n",
      "pani\n",
      "138\n",
      "138\n",
      "138\n"
     ]
    }
   ],
   "source": [
    "with open(\"pan-tadeusz.txt\", \"r\", encoding=\"UTF-8\") as file:\n",
    "    text = file.read().lower()\n",
    "    patter = \"pan\"\n",
    "    count_naive = naive(text, patter)\n",
    "    count_automat = automat(text, build_delta(patter))\n",
    "    count_kmp = kmp(text, patter)\n",
    "    print(patter)\n",
    "    print(count_naive)\n",
    "    print(count_automat)\n",
    "    print(count_kmp)\n",
    "    print()\n",
    "    patter = \"pani\"\n",
    "    count_naive = naive(text, patter)\n",
    "    count_automat = automat(text, build_delta(patter))\n",
    "    count_kmp = kmp(text, patter)\n",
    "    print(patter)\n",
    "    print(count_naive)\n",
    "    print(count_automat)\n",
    "    print(count_kmp)"
   ],
   "metadata": {
    "collapsed": false
   }
  },
  {
   "cell_type": "code",
   "execution_count": 55,
   "outputs": [
    {
     "name": "stdout",
     "output_type": "stream",
     "text": [
      "                        min                         max                       avg\n",
      "time_naive:       0.13997578620910645       0.16498470306396484       0.15214872360229492\n",
      "time_pre_automat: 0.0       0.004987001419067383       0.0009974002838134765\n",
      "time_automat:     0.25000882148742676       0.28998470306396484       0.26494641304016114\n",
      "time_kmp:         0.1149895191192627       0.1449904441833496      0.12824316024780275\n"
     ]
    }
   ],
   "source": [
    "with open(\"pan-tadeusz.txt\", \"r\", encoding=\"UTF-8\") as file:\n",
    "    text = file.read().lower()\n",
    "    time_naive_tab = []\n",
    "    time_pre_automat_tab = []\n",
    "    time_automat_tab = []\n",
    "    time_kmp_tab = []\n",
    "    for i in range(5):\n",
    "        pattern = \"pan\"\n",
    "\n",
    "        time_naive, count_naive = count_time(naive, text, pattern)\n",
    "        time_pre_automat, delta = count_time(build_delta, pattern)\n",
    "        time_automat, count_automat = count_time(automat, text, delta)\n",
    "        time_kmp, count_kmp = count_time(kmp, text, pattern)\n",
    "\n",
    "        time_naive_tab.append(time_naive)\n",
    "        time_pre_automat_tab.append(time_pre_automat)\n",
    "        time_automat_tab.append(time_automat)\n",
    "        time_kmp_tab.append(time_kmp)\n",
    "\n",
    "        pattern = \"pani\"\n",
    "\n",
    "        time_naive, count_naive = count_time(naive, text, pattern)\n",
    "        time_pre_automat, delta = count_time(build_delta, pattern)\n",
    "        time_automat, count_automat = count_time(automat, text, delta)\n",
    "        time_kmp, count_kmp = count_time(kmp, text, pattern)\n",
    "\n",
    "        time_naive_tab[i] += time_naive\n",
    "        time_pre_automat_tab[i] += time_pre_automat\n",
    "        time_automat_tab[i] += time_automat\n",
    "        time_kmp_tab[i] += time_kmp\n",
    "\n",
    "    print(\"                        min                         max                       avg\")\n",
    "    print(\"time_naive:      \", min(time_naive_tab), \"     \", max(time_naive_tab), \"     \", sum(time_naive_tab) / 5)\n",
    "    print(\"time_pre_automat:\", min(time_pre_automat_tab), \"     \", max(time_pre_automat_tab), \"     \", sum(time_pre_automat_tab) / 5)\n",
    "    print(\"time_automat:    \", min(time_automat_tab), \"     \", max(time_automat_tab), \"     \", sum(time_automat_tab) / 5)\n",
    "    print(\"time_kmp:        \", min(time_kmp_tab), \"     \", max(time_kmp_tab), \"    \", sum(time_kmp_tab) / 5)\n",
    "\n",
    "\n"
   ],
   "metadata": {
    "collapsed": false
   }
  },
  {
   "cell_type": "markdown",
   "source": [
    "# Zad 5"
   ],
   "metadata": {
    "collapsed": false
   }
  },
  {
   "cell_type": "code",
   "execution_count": 56,
   "outputs": [
    {
     "name": "stdout",
     "output_type": "stream",
     "text": [
      "time_naive: 7.937242031097412\n",
      "time_automat: 0.1997830867767334\n",
      "time_kmp: 0.3420100212097168\n"
     ]
    }
   ],
   "source": [
    "pattern = \"\".join([\"a\" for _ in range(100000)])\n",
    "text = \"\".join([\"a\" for _ in range(1000000)])\n",
    "time_naive, count_naive = count_time(naive, text, pattern)\n",
    "time_automat, count_automat = count_time(automat, text, build_delta(pattern))\n",
    "time_kmp, count_kmp = count_time(kmp, text, pattern)\n",
    "print(\"time_naive:\", time_naive)\n",
    "print(\"time_automat:\", time_automat)\n",
    "print(\"time_kmp:\", time_kmp)\n"
   ],
   "metadata": {
    "collapsed": false
   }
  },
  {
   "cell_type": "markdown",
   "source": [
    "# Zad 6\n",
    "Kmp jest najlepszym wyborem, jeżeli tylko raz musimy wyszukać danego wzorca\n",
    "Automat jest najlepszy, jeżeli wielokrotnie używamy wyszukujemy jeden wzorzec (np. w kilku teksach)"
   ],
   "metadata": {
    "collapsed": false
   }
  },
  {
   "cell_type": "markdown",
   "source": [],
   "metadata": {
    "collapsed": false
   }
  }
 ],
 "metadata": {
  "kernelspec": {
   "display_name": "Python 3",
   "language": "python",
   "name": "python3"
  },
  "language_info": {
   "codemirror_mode": {
    "name": "ipython",
    "version": 2
   },
   "file_extension": ".py",
   "mimetype": "text/x-python",
   "name": "python",
   "nbconvert_exporter": "python",
   "pygments_lexer": "ipython2",
   "version": "2.7.6"
  }
 },
 "nbformat": 4,
 "nbformat_minor": 0
}

{
 "cells": [
  {
   "cell_type": "code",
   "execution_count": 2,
   "outputs": [],
   "source": [
    "import os\n",
    "from queue import PriorityQueue\n",
    "from time import time\n",
    "import random\n",
    "import string"
   ],
   "metadata": {
    "collapsed": false
   }
  },
  {
   "cell_type": "code",
   "execution_count": 3,
   "metadata": {
    "collapsed": true
   },
   "outputs": [],
   "source": [
    "def count_time(func, *args):\n",
    "    start_time = time()\n",
    "    func(*args)\n",
    "    return time() - start_time\n",
    "\n",
    "def count_letters_in_file(filename):\n",
    "    letters = dict()\n",
    "    with open(filename, \"r\", encoding=\"UTF-8\") as file:\n",
    "        text = file.read()\n",
    "        for letter in text:\n",
    "            if letter in letters:\n",
    "                letters[letter] += 1\n",
    "            else:\n",
    "                letters[letter] = 1\n",
    "    return letters\n",
    "\n",
    "def build_hoffman_tree(letters):\n",
    "\n",
    "    class Node:\n",
    "        def __init__(self):\n",
    "            self.value = None\n",
    "            self.left = None\n",
    "            self.right = None\n",
    "\n",
    "        def __lt__(self, other):\n",
    "            return 0\n",
    "\n",
    "        def __len__(self):\n",
    "            return 0\n",
    "\n",
    "        def __gt__(self, other):\n",
    "            return 0\n",
    "\n",
    "        def __ge__(self, other):\n",
    "            return 0\n",
    "\n",
    "        def __cmp__(self, other):\n",
    "            return 0\n",
    "\n",
    "        def __eq__(self, other):\n",
    "            return 0\n",
    "\n",
    "        def __ne__(self, other):\n",
    "            return 0\n",
    "\n",
    "    def build_coder_dict(node: Node, string = \"\"):\n",
    "        if type(node.left) == Node:\n",
    "            build_coder_dict(node.left, string + \"0\")\n",
    "        else:\n",
    "            decoder[node.left] = string + \"0\"\n",
    "        if type(node.right) == Node:\n",
    "            build_coder_dict(node.right, string + \"1\")\n",
    "        else:\n",
    "            decoder[node.right] = string + \"1\"\n",
    "\n",
    "\n",
    "    sorted_letters = PriorityQueue(len(letters))\n",
    "    for letter in letters:\n",
    "        sorted_letters.put((letters[letter], ord(letter), letter))\n",
    "\n",
    "\n",
    "    while sorted_letters.qsize() != 1:\n",
    "        letter1 = sorted_letters.get()\n",
    "        letter2 = sorted_letters.get()\n",
    "        new_node = Node()\n",
    "        new_node.value = letter1[0] + letter2[0]\n",
    "        new_node.right = letter1[2]\n",
    "        new_node.left = letter2[2]\n",
    "        sorted_letters.put((new_node.value, float(\"inf\"), new_node))\n",
    "\n",
    "    tree = sorted_letters.get()[2]\n",
    "    decoder = dict()\n",
    "    build_coder_dict(tree)\n",
    "    # print(decoder)\n",
    "    return decoder\n",
    "\n",
    "def compress_file_using_decoder(filename, decoder):\n",
    "    with open(filename, \"r\", encoding=\"UTF-8\") as file_to_decode:\n",
    "        text = file_to_decode.read()\n",
    "        s = []\n",
    "        for letter in text:\n",
    "            s.append(decoder[letter])\n",
    "        s = \"\".join(s)\n",
    "\n",
    "        # make s divided by 8\n",
    "        fill = 8 - len(s) % 8\n",
    "        temp = \"0\" * fill\n",
    "        temp += \"0\" * (8 - fill.bit_length()) + bin(fill).replace(\"0b\", \"\")\n",
    "        s += temp\n",
    "\n",
    "        # print(s)\n",
    "        # print(len(s))\n",
    "        with open(f\"coded_{filename[:-4]}.bin\", \"wb\") as coded_file:\n",
    "            b = bytearray()\n",
    "            for x in range(0, len(s), 8):\n",
    "                # b.append(to_bin(s[x:x+8]))\n",
    "                a = int(s[x:x+8], 2)\n",
    "                # print(a)\n",
    "                b.append(a)  # bytearray appenduje liczbe w systemie 10, a jak to robi, to juz nie moj problem\n",
    "            coded_file.write(b)\n",
    "\n",
    "\n",
    "def reverse_decoder(decoder):\n",
    "    new_decoder = dict()\n",
    "    for key in decoder.keys():\n",
    "        new_decoder[decoder[key]] = key\n",
    "    return new_decoder\n",
    "\n"
   ]
  },
  {
   "cell_type": "code",
   "execution_count": 4,
   "outputs": [],
   "source": [
    "def decode_using_decored(filename, decoder):\n",
    "\n",
    "    # print(decoder)\n",
    "    with open(filename, \"rb\") as file_to_decode:\n",
    "        text = file_to_decode.read()\n",
    "        decoded_text = []\n",
    "        step = \"\"\n",
    "        for i in range(len(text) - 2):\n",
    "            bajt = text[i]\n",
    "            x = bin(bajt).replace(\"0b\", \"\")\n",
    "            x = (\"0\" * (8 - len(str(x))) + str(x))\n",
    "            # print(x)\n",
    "            for y in x:\n",
    "                step += y\n",
    "                # print(step)\n",
    "                if sign := decoder.get(step):\n",
    "                    decoded_text.append(sign)\n",
    "                    step = \"\"\n",
    "        last_bajt_to_check = bin(text[-2]).replace(\"0b\", \"\")\n",
    "        for i in range(8 - i):\n",
    "            step += last_bajt_to_check[i]\n",
    "            if sign := decoder.get(step):\n",
    "                decoded_text.append(sign)\n",
    "                step = \"\"\n",
    "        # print(\"XD\", additional_bits)\n",
    "        # print(decoded_text)\n",
    "\n",
    "        with open(f\"decoded_{filename[:-4]}.txt\", \"w\", encoding=\"UTF=8\") as decoded_file:\n",
    "            decoded_file.write(\"\".join(decoded_text))\n",
    "\n",
    "\n",
    "\n"
   ],
   "metadata": {
    "collapsed": false
   }
  },
  {
   "cell_type": "code",
   "execution_count": 5,
   "outputs": [],
   "source": [
    "def code_and_decode_file(filename):\n",
    "\n",
    "    letters = count_letters_in_file(filename)\n",
    "    decoder = build_hoffman_tree(letters)\n",
    "    compress_file_using_decoder(filename, decoder)\n",
    "    decode_using_decored(f\"coded_{filename[:-4]}.bin\", reverse_decoder(decoder))\n",
    "\n",
    "def compare_file(filename):\n",
    "    before = os.stat(filename).st_size\n",
    "    after = os.stat(f\"coded_{filename[:-4]}.bin\").st_size\n",
    "    return after / before\n",
    "\n",
    "def generate_random_asci_file(filename, n):\n",
    "\n",
    "    random_string = ''.join(random.choices(string.printable, k=n))\n",
    "\n",
    "    with open(filename, \"w\", encoding=\"UTF-8\") as file:\n",
    "        file.write(random_string)"
   ],
   "metadata": {
    "collapsed": false
   }
  },
  {
   "cell_type": "code",
   "execution_count": 62,
   "outputs": [
    {
     "name": "stdout",
     "output_type": "stream",
     "text": [
      "File was compressed by 55.935%. It took 0.01 seconds\n"
     ]
    }
   ],
   "source": [
    "filename = \"gutenberg1kB.txt\"\n",
    "t = count_time(code_and_decode_file, filename)\n",
    "print(f\"File was compressed by {round(compare_file(filename) * 100, 3)}%. It took {round(t, 2)} seconds\")"
   ],
   "metadata": {
    "collapsed": false
   }
  },
  {
   "cell_type": "code",
   "execution_count": 63,
   "outputs": [
    {
     "name": "stdout",
     "output_type": "stream",
     "text": [
      "File was compressed by 55.648%. It took 0.02 seconds\n"
     ]
    }
   ],
   "source": [
    "filename = \"gutenberg10kB.txt\"\n",
    "t = count_time(code_and_decode_file, filename)\n",
    "print(f\"File was compressed by {round(compare_file(filename) * 100, 3)}%. It took {round(t, 2)} seconds\")"
   ],
   "metadata": {
    "collapsed": false
   }
  },
  {
   "cell_type": "code",
   "execution_count": 64,
   "outputs": [
    {
     "name": "stdout",
     "output_type": "stream",
     "text": [
      "File was compressed by 55.54%. It took 0.14 seconds\n"
     ]
    }
   ],
   "source": [
    "filename = \"gutenberg100kB.txt\"\n",
    "t = count_time(code_and_decode_file, filename)\n",
    "print(f\"File was compressed by {round(compare_file(filename) * 100, 3)}%. It took {round(t, 2)} seconds\")"
   ],
   "metadata": {
    "collapsed": false
   }
  },
  {
   "cell_type": "code",
   "execution_count": 65,
   "outputs": [
    {
     "name": "stdout",
     "output_type": "stream",
     "text": [
      "File was compressed by 55.373%. It took 1.45 seconds\n"
     ]
    }
   ],
   "source": [
    "filename = \"gutenberg1MB.txt\"\n",
    "t = count_time(code_and_decode_file, filename)\n",
    "print(f\"File was compressed by {round(compare_file(filename) * 100, 3)}%. It took {round(t, 2)} seconds\")"
   ],
   "metadata": {
    "collapsed": false
   }
  },
  {
   "cell_type": "code",
   "execution_count": 66,
   "outputs": [
    {
     "name": "stdout",
     "output_type": "stream",
     "text": [
      "File was compressed by 57.798%. It took 0.0 seconds\n"
     ]
    }
   ],
   "source": [
    "filename = \"linux1kB.txt\"\n",
    "t = count_time(code_and_decode_file, filename)\n",
    "print(f\"File was compressed by {round(compare_file(filename) * 100, 3)}%. It took {round(t, 2)} seconds\")"
   ],
   "metadata": {
    "collapsed": false
   }
  },
  {
   "cell_type": "code",
   "execution_count": 67,
   "outputs": [
    {
     "name": "stdout",
     "output_type": "stream",
     "text": [
      "File was compressed by 64.531%. It took 0.02 seconds\n"
     ]
    }
   ],
   "source": [
    "filename = \"linux10kB.txt\"\n",
    "t = count_time(code_and_decode_file, filename)\n",
    "print(f\"File was compressed by {round(compare_file(filename) * 100, 3)}%. It took {round(t, 2)} seconds\")"
   ],
   "metadata": {
    "collapsed": false
   }
  },
  {
   "cell_type": "code",
   "execution_count": 68,
   "outputs": [
    {
     "name": "stdout",
     "output_type": "stream",
     "text": [
      "File was compressed by 63.548%. It took 0.15 seconds\n"
     ]
    }
   ],
   "source": [
    "filename = \"linux100kB.txt\"\n",
    "t = count_time(code_and_decode_file, filename)\n",
    "print(f\"File was compressed by {round(compare_file(filename) * 100, 3)}%. It took {round(t, 2)} seconds\")"
   ],
   "metadata": {
    "collapsed": false
   }
  },
  {
   "cell_type": "code",
   "execution_count": 69,
   "outputs": [
    {
     "name": "stdout",
     "output_type": "stream",
     "text": [
      "File was compressed by 62.083%. It took 2.03 seconds\n"
     ]
    }
   ],
   "source": [
    "filename = \"linux1MB.txt\"\n",
    "t = count_time(code_and_decode_file, filename)\n",
    "print(f\"File was compressed by {round(compare_file(filename) * 100, 3)}%. It took {round(t, 2)} seconds\")"
   ],
   "metadata": {
    "collapsed": false
   }
  },
  {
   "cell_type": "markdown",
   "source": [
    "# Generate random signs in files"
   ],
   "metadata": {
    "collapsed": false
   }
  },
  {
   "cell_type": "code",
   "execution_count": 79,
   "outputs": [],
   "source": [
    "filename = \"randomsigns1kB.txt\"\n",
    "generate_random_asci_file(filename, 1000)"
   ],
   "metadata": {
    "collapsed": false
   }
  },
  {
   "cell_type": "code",
   "execution_count": 80,
   "outputs": [],
   "source": [
    "filename = \"randomsigns10kB.txt\"\n",
    "generate_random_asci_file(filename, 10000)"
   ],
   "metadata": {
    "collapsed": false
   }
  },
  {
   "cell_type": "code",
   "execution_count": 84,
   "outputs": [],
   "source": [
    "filename = \"randomsigns100kB.txt\"\n",
    "generate_random_asci_file(filename, 101000)"
   ],
   "metadata": {
    "collapsed": false
   }
  },
  {
   "cell_type": "code",
   "execution_count": 90,
   "outputs": [],
   "source": [
    "filename = \"randomsigns1MB.txt\"\n",
    "generate_random_asci_file(filename, 1038000)"
   ],
   "metadata": {
    "collapsed": false
   }
  },
  {
   "cell_type": "code",
   "execution_count": 91,
   "outputs": [
    {
     "name": "stdout",
     "output_type": "stream",
     "text": [
      "File was compressed by 82.008%. It took 0.01 seconds\n"
     ]
    }
   ],
   "source": [
    "filename = \"randomsigns1kB.txt\"\n",
    "t = count_time(code_and_decode_file, filename)\n",
    "print(f\"File was compressed by {round(compare_file(filename) * 100, 3)}%. It took {round(t, 2)} seconds\")"
   ],
   "metadata": {
    "collapsed": false
   }
  },
  {
   "cell_type": "code",
   "execution_count": 92,
   "outputs": [
    {
     "name": "stdout",
     "output_type": "stream",
     "text": [
      "File was compressed by 82.456%. It took 0.03 seconds\n"
     ]
    }
   ],
   "source": [
    "filename = \"randomsigns10kB.txt\"\n",
    "t = count_time(code_and_decode_file, filename)\n",
    "print(f\"File was compressed by {round(compare_file(filename) * 100, 3)}%. It took {round(t, 2)} seconds\")"
   ],
   "metadata": {
    "collapsed": false
   }
  },
  {
   "cell_type": "code",
   "execution_count": 93,
   "outputs": [
    {
     "name": "stdout",
     "output_type": "stream",
     "text": [
      "File was compressed by 82.823%. It took 0.18 seconds\n"
     ]
    }
   ],
   "source": [
    "filename = \"randomsigns100kB.txt\"\n",
    "t = count_time(code_and_decode_file, filename)\n",
    "print(f\"File was compressed by {round(compare_file(filename) * 100, 3)}%. It took {round(t, 2)} seconds\")"
   ],
   "metadata": {
    "collapsed": false
   }
  },
  {
   "cell_type": "code",
   "execution_count": 94,
   "outputs": [
    {
     "name": "stdout",
     "output_type": "stream",
     "text": [
      "File was compressed by 82.875%. It took 2.46 seconds\n"
     ]
    }
   ],
   "source": [
    "filename = \"randomsigns1MB.txt\"\n",
    "t = count_time(code_and_decode_file, filename)\n",
    "print(f\"File was compressed by {round(compare_file(filename) * 100, 3)}%. It took {round(t, 2)} seconds\")"
   ],
   "metadata": {
    "collapsed": false
   }
  },
  {
   "cell_type": "code",
   "execution_count": null,
   "outputs": [],
   "source": [],
   "metadata": {
    "collapsed": false
   }
  }
 ],
 "metadata": {
  "kernelspec": {
   "display_name": "Python 3",
   "language": "python",
   "name": "python3"
  },
  "language_info": {
   "codemirror_mode": {
    "name": "ipython",
    "version": 2
   },
   "file_extension": ".py",
   "mimetype": "text/x-python",
   "name": "python",
   "nbconvert_exporter": "python",
   "pygments_lexer": "ipython2",
   "version": "2.7.6"
  }
 },
 "nbformat": 4,
 "nbformat_minor": 0
}

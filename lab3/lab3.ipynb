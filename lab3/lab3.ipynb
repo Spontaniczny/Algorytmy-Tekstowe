{
 "cells": [
  {
   "cell_type": "code",
   "execution_count": 493,
   "metadata": {
    "collapsed": true
   },
   "outputs": [],
   "source": [
    "def longest_common_subsequence(a, b, save_diff = False):\n",
    "    # if len(a) > len(b):\n",
    "    #     a, b = b, a\n",
    "    n1, n2 = len(a), len(b)\n",
    "    tab = [[0 for _ in range(n2+1)] for _ in range(n1+1)]  # tab[a+1][b+1]\n",
    "    cur_max = 0\n",
    "    diff_a = []\n",
    "    diff_b = []\n",
    "    if save_diff:\n",
    "        diff_a = [False for _ in range(n1)]\n",
    "        diff_b = [False for _ in range(n2)]\n",
    "\n",
    "    for i in range(n1):\n",
    "        for j in range(n2):\n",
    "            if a[i] == b[j]:\n",
    "                tab[i+1][j+1] = tab[i][j] + 1\n",
    "                if tab[i+1][j+1] > cur_max:\n",
    "                    cur_max = tab[i+1][j+1]\n",
    "                    diff_a[i] = True\n",
    "                    diff_b[j] = True\n",
    "            else:\n",
    "                tab[i+1][j+1] = max(tab[i][j+1], tab[i+1][j])\n",
    "    if save_diff:\n",
    "        return tab[-1][-1], diff_a, diff_b\n",
    "    return tab[-1][-1]\n",
    "\n",
    "def print_differences(a, b, diff_a, diff_b):\n",
    "    # for i, XD in enumerate(a):\n",
    "    #     if not diff_a[i]:\n",
    "    #         print(f\"Strint no 1, line {i}: {XD}\")\n",
    "    # for i, XD in enumerate(b):\n",
    "    #     if not diff_b[i]:\n",
    "    #         print(f\"Strint no 2, line {i}: {XD}\")\n",
    "    for i in range(min(len(a), len(b))):\n",
    "        if not diff_a[i]:\n",
    "            print(f\"Strint no 1, line {i}: {a[i]}\")\n",
    "        if not diff_b[i]:\n",
    "            print(f\"Strint no 2, line {i}: {b[i]}\")\n",
    "    for i in range(min(len(a), len(b)), max(len(a), len(b))):\n",
    "        if i < len(a) and not diff_a[i]:\n",
    "            print(f\"Strint no 1, line {i}: {a[i]}\")\n",
    "        if i < len(b) and not diff_b[i]:\n",
    "            print(f\"Strint no 2, line {i}: {b[i]}\")\n",
    "\n",
    "def editing_distance(a, b, printatob = False, printbtoa = False):\n",
    "    n1, n2 = len(a), len(b)\n",
    "    tab = [[1 for _ in range(n2+1)] for _ in range(n1+1)]  # tab[a+1][b+1]\n",
    "    for i in range(n2 + 1):\n",
    "        tab[0][i] = i\n",
    "    for i in range(n1 + 1):\n",
    "        tab[i][0] = i\n",
    "    for i in range(n1):\n",
    "        for j in range(n2):\n",
    "            if a[i] == b[j]:\n",
    "                tab[i+1][j+1] = tab[i][j]\n",
    "            else:\n",
    "                tab[i+1][j+1] = min(tab[i][j + 1], tab[i][j], tab[i + 1][j]) + 1\n",
    "    # print(tab)\n",
    "    if printatob:\n",
    "        print(f\"Tutorial: {a} -> {b}\")\n",
    "        i = n1\n",
    "        j = n2\n",
    "        word = [\"_\" for _ in range(max(n1, n2))]\n",
    "        counter = 0\n",
    "        for xd in range(n1):\n",
    "            word[xd] = a[xd]\n",
    "        print(f\"Step {counter}: {''.join(word)}\")\n",
    "        while counter != tab[-1][-1]:\n",
    "            m = min(tab[i][j - 1], tab[i -1][j - 1], tab[i - 1][j])\n",
    "            if m == tab[i - 1][j - 1]:\n",
    "                i -= 1\n",
    "                j -= 1\n",
    "                if tab[i + 1][j + 1] == tab[i][j]:\n",
    "                    # print(\"skip\")\n",
    "                    continue\n",
    "                word[i] = b[j]\n",
    "                counter += 1\n",
    "                # print(\"I\")\n",
    "                print(f\"Step {counter}: {''.join(word)}\")\n",
    "            elif m == tab[i][j - 1]:\n",
    "                word.insert(i, b[j - 1])\n",
    "                # word.pop()\n",
    "                counter += 1\n",
    "                # print(\"II\")\n",
    "                print(f\"Step {counter}: {''.join(word)}\")\n",
    "                j -= 1\n",
    "            elif m == tab[i - 1][j]:\n",
    "                # word[i - 1] = \"_\"\n",
    "                word.pop(i - 1)\n",
    "                word.append(\"_\")\n",
    "                i -= 1\n",
    "                counter += 1\n",
    "                # print(\"III\")\n",
    "\n",
    "                print(f\"Step {counter}: {''.join(word)}\")\n",
    "        word = ''.join(word).replace(\"_\", \"\")\n",
    "        print(f\"\\nCheck if CORRECTFULLNESS is ok -> {word == b}\")\n",
    "\n",
    "        print()\n",
    "\n",
    "    if printbtoa:\n",
    "        print(f\"Tutorial: {b} -> {a}\")\n",
    "        i = n1\n",
    "        j = n2\n",
    "        word = [\"_\" for _ in range(max(n1, n2))]\n",
    "        counter = 0\n",
    "        for xd in range(n2):\n",
    "            word[xd] = b[xd]\n",
    "        print(f\"Step {counter}: {''.join(word)}\")\n",
    "        while counter != tab[-1][-1]:\n",
    "            # if tab[i - 1][j - 1] == tab[i][j]:\n",
    "            #     i -= 1\n",
    "            #     j -= 1\n",
    "            #     continue\n",
    "            m = min(tab[i][j - 1], tab[i -1][j - 1], tab[i - 1][j])\n",
    "            if m == tab[i - 1][j - 1]:\n",
    "                i -= 1\n",
    "                j -= 1\n",
    "                if tab[i + 1][j + 1] == tab[i][j]:\n",
    "                    # print(\"skip\")\n",
    "                    continue\n",
    "                word[j] = a[i]\n",
    "                counter += 1\n",
    "                # print(\"I\")\n",
    "                print(f\"Step {counter}: {''.join(word)}\")\n",
    "            elif m == tab[i - 1][j]:\n",
    "                word.insert(j, a[i - 1])\n",
    "                # word.pop()\n",
    "                counter += 1\n",
    "                i -= 1\n",
    "                # print(\"III\")\n",
    "                print(f\"Step {counter}: {''.join(word)}\")\n",
    "            elif m == tab[i][j - 1]:\n",
    "                word.pop(j - 1)\n",
    "                word.append(\"_\")\n",
    "                j -= 1\n",
    "                counter += 1\n",
    "                # print(\"II\")\n",
    "                print(f\"Step {counter}: {''.join(word)}\")\n",
    "\n",
    "        word = ''.join(word).replace(\"_\", \"\")\n",
    "        print(f\"\\nCheck if CORRECTFULLNESS is ok -> {word == a}\")\n",
    "\n",
    "\n",
    "\n",
    "        print()\n",
    "\n",
    "\n",
    "    # for xd in tab:\n",
    "    #     print(xd)\n",
    "\n",
    "\n",
    "    # print(tab)\n",
    "\n",
    "    return tab[-1][-1]"
   ]
  },
  {
   "cell_type": "code",
   "execution_count": 272,
   "outputs": [
    {
     "name": "stdout",
     "output_type": "stream",
     "text": [
      "2\n"
     ]
    }
   ],
   "source": [
    "print(longest_common_subsequence(\"los\", \"kloc\"))"
   ],
   "metadata": {
    "collapsed": false
   }
  },
  {
   "cell_type": "code",
   "execution_count": 273,
   "outputs": [
    {
     "name": "stdout",
     "output_type": "stream",
     "text": [
      "1\n"
     ]
    }
   ],
   "source": [
    "print(longest_common_subsequence(\"Łódź\", \"Lodz\"))"
   ],
   "metadata": {
    "collapsed": false
   }
  },
  {
   "cell_type": "code",
   "execution_count": 274,
   "outputs": [
    {
     "name": "stdout",
     "output_type": "stream",
     "text": [
      "8\n"
     ]
    }
   ],
   "source": [
    "print(longest_common_subsequence(\"kwintesencja\", \"quintessence\"))"
   ],
   "metadata": {
    "collapsed": false
   }
  },
  {
   "cell_type": "code",
   "execution_count": 275,
   "outputs": [
    {
     "name": "stdout",
     "output_type": "stream",
     "text": [
      "13\n"
     ]
    }
   ],
   "source": [
    "print(longest_common_subsequence(\"ATGAATCTTACCGCCTCG\", \"ATGAGGCTCTGGCCCCTG\"))"
   ],
   "metadata": {
    "collapsed": false
   }
  },
  {
   "cell_type": "code",
   "execution_count": 338,
   "outputs": [
    {
     "name": "stdout",
     "output_type": "stream",
     "text": [
      "Tutorial: los -> kloc\n",
      "Step 0: los_\n",
      "Step 1: loc_\n",
      "Step 2: kloc_\n",
      "\n",
      "Check if CORRECTFULLNESS is ok -> True\n",
      "\n",
      "Tutorial: kloc -> los\n",
      "Step 0: kloc\n",
      "Step 1: klos\n",
      "Step 2: los_\n",
      "\n",
      "Check if CORRECTFULLNESS is ok -> True\n",
      "\n",
      "editing distance: 2\n"
     ]
    }
   ],
   "source": [
    "print(f'editing distance: {editing_distance(\"los\", \"kloc\", True, True)}')"
   ],
   "metadata": {
    "collapsed": false
   }
  },
  {
   "cell_type": "code",
   "execution_count": 339,
   "outputs": [
    {
     "name": "stdout",
     "output_type": "stream",
     "text": [
      "Tutorial: Łódź -> Lodz\n",
      "Step 0: Łódź\n",
      "Step 1: Łódz\n",
      "Step 2: Łodz\n",
      "Step 3: Lodz\n",
      "\n",
      "Check if CORRECTFULLNESS is ok -> True\n",
      "\n",
      "Tutorial: Lodz -> Łódź\n",
      "Step 0: Lodz\n",
      "Step 1: Lodź\n",
      "Step 2: Lódź\n",
      "Step 3: Łódź\n",
      "\n",
      "Check if CORRECTFULLNESS is ok -> True\n",
      "\n",
      "editing distance: 3\n"
     ]
    }
   ],
   "source": [
    "print(f'editing distance: {editing_distance(\"Łódź\", \"Lodz\", True, True)}')"
   ],
   "metadata": {
    "collapsed": false
   }
  },
  {
   "cell_type": "code",
   "execution_count": 340,
   "outputs": [
    {
     "name": "stdout",
     "output_type": "stream",
     "text": [
      "Tutorial: quintessence -> kwintesencja\n",
      "Step 0: quintessence\n",
      "Step 1: quintessenca\n",
      "Step 2: quintessencja\n",
      "Step 3: quintesencja_\n",
      "Step 4: qwintesencja_\n",
      "Step 5: kwintesencja_\n",
      "\n",
      "Check if CORRECTFULLNESS is ok -> True\n",
      "\n",
      "Tutorial: kwintesencja -> quintessence\n",
      "Step 0: kwintesencja\n",
      "Step 1: kwintesencje\n",
      "Step 2: kwintesence_\n",
      "Step 3: kwintessence_\n",
      "Step 4: kuintessence_\n",
      "Step 5: quintessence_\n",
      "\n",
      "Check if CORRECTFULLNESS is ok -> True\n",
      "\n",
      "editing distance: 5\n"
     ]
    }
   ],
   "source": [
    "print(f'editing distance: {editing_distance(\"quintessence\", \"kwintesencja\", True, True)}')"
   ],
   "metadata": {
    "collapsed": false
   }
  },
  {
   "cell_type": "code",
   "execution_count": 341,
   "outputs": [
    {
     "name": "stdout",
     "output_type": "stream",
     "text": [
      "Tutorial: ATGAATCTTACCGCCTCG -> ATGAGGCTCTGGCCCCTG\n",
      "Step 0: ATGAATCTTACCGCCTCG\n",
      "Step 1: ATGAATCTTACCGCCTG_\n",
      "Step 2: ATGAATCTTACCCCCTG_\n",
      "Step 3: ATGAATCTTAGCCCCTG_\n",
      "Step 4: ATGAATCTTGGCCCCTG_\n",
      "Step 5: ATGAATCTCTGGCCCCTG_\n",
      "Step 6: ATGAAGCTCTGGCCCCTG_\n",
      "Step 7: ATGAGGCTCTGGCCCCTG_\n",
      "\n",
      "Check if CORRECTFULLNESS is ok -> True\n",
      "\n",
      "Tutorial: ATGAGGCTCTGGCCCCTG -> ATGAATCTTACCGCCTCG\n",
      "Step 0: ATGAGGCTCTGGCCCCTG\n",
      "Step 1: ATGAGGCTCTGGCCCCTCG\n",
      "Step 2: ATGAGGCTCTGGCGCCTCG\n",
      "Step 3: ATGAGGCTCTGCCGCCTCG\n",
      "Step 4: ATGAGGCTCTACCGCCTCG\n",
      "Step 5: ATGAGGCTTACCGCCTCG_\n",
      "Step 6: ATGAGTCTTACCGCCTCG_\n",
      "Step 7: ATGAATCTTACCGCCTCG_\n",
      "\n",
      "Check if CORRECTFULLNESS is ok -> True\n",
      "\n",
      "editing distance: 7\n"
     ]
    }
   ],
   "source": [
    "print(f'editing distance: {editing_distance(\"ATGAATCTTACCGCCTCG\", \"ATGAGGCTCTGGCCCCTG\", True, True)}')"
   ],
   "metadata": {
    "collapsed": false
   }
  },
  {
   "cell_type": "code",
   "execution_count": 495,
   "outputs": [],
   "source": [
    "from spacy.tokenizer import Tokenizer  # why error :c\n",
    "from spacy.lang.en import English\n",
    "from random import randint"
   ],
   "metadata": {
    "collapsed": false
   }
  },
  {
   "cell_type": "code",
   "execution_count": 344,
   "outputs": [
    {
     "name": "stdout",
     "output_type": "stream",
     "text": [
      "<spacy.tokenizer.Tokenizer object at 0x00000261CF3FFBE0>\n"
     ]
    }
   ],
   "source": [
    "nlp = English()\n",
    "# Create a blank Tokenizer with just the English vocab\n",
    "tokenizer = Tokenizer(nlp.vocab)"
   ],
   "metadata": {
    "collapsed": false
   }
  },
  {
   "cell_type": "code",
   "execution_count": 478,
   "outputs": [],
   "source": [
    "with open(\"romeo-i-julia-700.txt\", \"r\", encoding=\"UTF-8\") as file:\n",
    "    text = file.read()"
   ],
   "metadata": {
    "collapsed": false
   }
  },
  {
   "cell_type": "code",
   "execution_count": 479,
   "outputs": [],
   "source": [
    "tokens = tokenizer(text)\n",
    "t1 = []\n",
    "t2 = []\n",
    "for token in tokens:\n",
    "    r1 = randint(1, 100)\n",
    "    r2 = randint(1, 100)\n",
    "    if r1 > 3:\n",
    "        t1.append(token.text_with_ws)\n",
    "    if r2 > 3:\n",
    "        t2.append(token.text_with_ws)"
   ],
   "metadata": {
    "collapsed": false
   }
  },
  {
   "cell_type": "code",
   "execution_count": 496,
   "outputs": [],
   "source": [
    "text1 = \"\".join(t1).split(\"\\n\")\n",
    "text2 = \"\".join(t2).split(\"\\n\")\n",
    "# for sekrecik in text1:\n",
    "#     print(sekrecik)"
   ],
   "metadata": {
    "collapsed": false
   }
  },
  {
   "cell_type": "code",
   "execution_count": 485,
   "outputs": [
    {
     "name": "stdout",
     "output_type": "stream",
     "text": [
      "560\n"
     ]
    }
   ],
   "source": [
    "x, changes1, changes2 = longest_common_subsequence(text1, text2, True)\n",
    "print(x)"
   ],
   "metadata": {
    "collapsed": false
   }
  },
  {
   "cell_type": "code",
   "execution_count": 494,
   "outputs": [
    {
     "name": "stdout",
     "output_type": "stream",
     "text": [
      "Strint no 1, line 0: Shakespeare\n",
      "Strint no 2, line 0: William Shakespeare\n",
      "Strint no 1, line 2: Romeo i Juliatłum. Józef Paszkowski\n",
      "Strint no 2, line 2: i Julia\n",
      "Strint no 2, line 3: tłum. Józef Paszkowski\n",
      "Strint no 1, line 8: OSOBY:\n",
      "Strint no 1, line 9:  * ESKALUS — książę panujący w Weronie\n",
      "Strint no 2, line 9: OSOBY:* ESKALUS — książę panujący w Weronie\n",
      "Strint no 1, line 14:  * MERKUCJO — krewny księcia* BENWOLIO — synowiec Montekiego\n",
      "Strint no 2, line 14:  * MERKUCJO — krewny księcia\n",
      "Strint no 2, line 15:  * BENWOLIO — synowiec Montekiego\n",
      "Strint no 1, line 17:  * JAN — brat z tegoż \n",
      "Strint no 2, line 18:  * JAN — brat z tegoż zgromadzenia\n",
      "Strint no 1, line 19:  * SAMSON, GRZEGORZ — słudzy Kapuleta\n",
      "Strint no 1, line 20:  ABRAHAM — służący Montekiego\n",
      "Strint no 2, line 20:  * SAMSON, GRZEGORZ — słudzy Kapuleta* ABRAHAM — służący Montekiego\n",
      "Strint no 1, line 21:  * APTEKARZ\n",
      "Strint no 2, line 21:  * \n",
      "Strint no 1, line 22:  * TRZECH MUZYKANTÓW\n",
      "Strint no 2, line 22:  TRZECH MUZYKANTÓW\n",
      "Strint no 1, line 23:  * PAŹ PARYSA* PIOTR\n",
      "Strint no 2, line 23:  * PAŹ PARYSA\n",
      "Strint no 2, line 24:  * PIOTR\n",
      "Strint no 1, line 34: Rzecz odbywa się przez większą część sztuki w Weronie, przez część piątego aktu w Mantui.\n",
      "Strint no 2, line 35: Rzecz odbywa się większą część sztuki w Weronie, przez część piątego aktu w Mantui.\n",
      "Strint no 1, line 43: Tam, gdzie się rzecz ta rozgrywa, w Weronie,\n",
      "Strint no 2, line 44: Tam, gdzie się rzecz rozgrywa, w Weronie,\n",
      "Strint no 1, line 49: Po pełnym przygód nieszczęśliwych bycie\n",
      "Strint no 1, line 50: Śmierć ich stłumiła rodzicielskie boje.\n",
      "Strint no 2, line 50: Po pełnym przygód nieszczęśliwych bycieŚmierć ich stłumiła rodzicielskie boje.\n",
      "Strint no 1, line 54: Aż ją zakończy dzieci zgon przedwczesny,\n",
      "Strint no 2, line 54: Aż ją zakończy zgon przedwczesny,\n",
      "Strint no 1, line 57: Które otoczcie cierpliwymi względy,\n",
      "Strint no 2, line 57: Które otoczcie cierpliwymi względy,Jest w nim co złego, my usuniem błędy…\n",
      "Strint no 1, line 58: Jest w nim co złego, my usuniem błędy…\n",
      "Strint no 2, line 68: / Plac publiczny. Wchodzą Samson i Grzegorz uzbrojeni w i miecze. /\n",
      "Strint no 1, line 69: / Plac publiczny. Wchodzą Samson i Grzegorz uzbrojeni w tarcze i miecze. \n",
      "Strint no 2, line 93: Mam zwyczaj drapać jak mię kto rozrucha.GRZEGORZ\n",
      "Strint no 1, line 94: Mam zwyczaj drapać zaraz, jak mię kto rozrucha.\n",
      "Strint no 2, line 95: Tak, ale nie zaraz zwykłeś się dać rozruchać.\n",
      "Strint no 2, line 97: \n",
      "Strint no 2, line 98: SAMSON\n",
      "Strint no 1, line 99: Tak, ale nie zaraz zwykłeś się dać rozruchać.\n",
      "Strint no 2, line 99: \n",
      "Strint no 2, line 100: Te psy z domu Montekich rozruchać mię mogą bardzo łatwo.\n",
      "Strint no 2, line 101: \n",
      "Strint no 2, line 102: \n",
      "Strint no 1, line 104: Te psy z domu Montekich rozruchać mię mogą bardzo łatwo.\n",
      "Strint no 2, line 105: Rozruchać się tyle znaczy co ruszyć się z miejsca; być walecznym jest to stać nieporuszenie: pojmuję więc, że skutkiem rozruchania się twego będzie - drapnięcie.\n",
      "Strint no 1, line 109: Rozruchać się tyle znaczy co się z miejsca; być walecznym jest to stać nieporuszenie: pojmuję więc, że skutkiem rozruchania się twego będzie - drapnięcie.\n",
      "Strint no 2, line 110: Te psy z domu Montekich rozruchać mię mogą tylko do stania na miejscu. Będę jak mur dla każdego mężczyzny każdej kobiety z tego domu.\n",
      "Strint no 1, line 114: Te psy z domu Montekich rozruchać mię mogą tylko do stania na miejscu. Będę jak mur dla każdego mężczyzny i każdej kobiety z tego domu.\n",
      "Strint no 2, line 115: To właśnie pokazuje twoją słabą stronę; mur dla nikogo niestraszny i tylko słabi go się trzymają.\n",
      "Strint no 1, line 119: To właśnie pokazuje twoją słabą stronę; mur dla nikogo niestraszny i tylko słabi go się trzymają.\n",
      "Strint no 2, line 120: Prawda, dlatego to kobiety, jako najsłabsze, tulą się zawsze do muru. Ja też odtrącę od muru ludzi Montekich, a kobiety Montekich przyprę do muru.GRZEGORZ\n",
      "Strint no 2, line 122: Spór jest tylko między naszymi panami i między nami, ich ludźmi.\n",
      "Strint no 1, line 124: Prawda, dlatego to kobiety, jako najsłabsze, tulą się zawsze do muru. Ja też odtrącę od muru ludzi Montekich, a kobiety Montekich przyprę do muru.\n",
      "Strint no 2, line 124: \n",
      "Strint no 2, line 125: SAMSON\n",
      "Strint no 2, line 126: \n",
      "Strint no 2, line 127: Mniejsza mi o to, będę nieubłagany. Pobiwszy ludzi, wywrę wściekłość na kobietach: rzeź między nimi sprawię.\n",
      "Strint no 2, line 128: \n",
      "Strint no 1, line 129: Spór jest tylko między naszymi panami i między nami, ich ludźmi.\n",
      "Strint no 2, line 129: \n",
      "Strint no 1, line 132: SAMSONMniejsza mi o to, będę nieubłagany. Pobiwszy ludzi, wywrę wściekłość na kobietach: rzeź między nimi sprawię.\n",
      "Strint no 2, line 132: Rzeź kobiet chcesz przedsiębrać?\n",
      "Strint no 2, line 135: SAMSON\n",
      "Strint no 1, line 137: Rzeź kobiet chcesz przedsiębrać?\n",
      "Strint no 2, line 137: Nie inaczej: wtłoczę miecz w po kolei. Wiadomo, że się do lwów liczę.\n",
      "Strint no 2, line 139: \n",
      "Strint no 1, line 142: Nie inaczej: wtłoczę w każdą po kolei. Wiadomo, że się do lwów liczę.\n",
      "Strint no 2, line 142: Tym lepiej, że się liczysz do zwierząt; bo gdybyś się liczył do ryb, to byłbyś pewnie sztokfiszem. Weź no się instrument, bo oto nadchodzi dwóch domowników Montekiego.\n",
      "Strint no 2, line 144: / Wchodzą Abraham i Baltazar. /\n",
      "Strint no 1, line 147: Tym lepiej, że się liczysz do zwierząt; bo gdybyś się liczył do ryb, to byłbyś pewnie sztokfiszem. Weź się za instrument, bo oto nadchodzi dwóch domowników Montekiego.\n",
      "Strint no 1, line 149: / Wchodzą Abraham i Baltazar. /\n",
      "Strint no 2, line 154: Gwoli drapania?\n",
      "Strint no 1, line 159: Gwoli \n",
      "Strint no 2, line 169: Miejmy prawo za niech zaczną.\n",
      "Strint no 1, line 174: Miejmy prawo za sobą, niech oni zaczną.\n",
      "Strint no 2, line 174: Marsa im nastawię przechodząc; niech go sobie, jak chcą, tłumaczą.\n",
      "Strint no 1, line 179: Marsa im nastawię niech go sobie, jak chcą, tłumaczą.\n",
      "Strint no 2, line 179: Nie jak chcą, ale jak śmią. Ja im gębę wykrzywię; hańba im, jeśli to ścierpią.\n",
      "Strint no 2, line 182: ABRAHAM\n",
      "Strint no 1, line 184: Nie jak chcą, ale jak śmią. Ja im wykrzywię; hańba im, jeśli to ścierpią.\n",
      "Strint no 2, line 184: Skrzywiłeś się na nas, mości panie?\n",
      "Strint no 2, line 187: SAMSON\n",
      "Strint no 1, line 189: się na nas, mości panie?\n",
      "Strint no 2, line 189: Nie inaczej, skrzywiłem się.\n",
      "Strint no 1, line 194: Nie inaczej, skrzywiłem się.\n",
      "Strint no 2, line 194: Czy na nas się skrzywiłeś, mości \n",
      "Strint no 1, line 199: Czy na się skrzywiłeś, mości panie?\n",
      "Strint no 2, line 199: / do Grzegorza /\n",
      "Strint no 2, line 201: Będziemy–ż mieli prawo za sobą, jak powiem: tak jest?\n",
      "Strint no 1, line 204: / do Grzegorza /Będziemy–ż mieli prawo za sobą, jak powiem: tak jest?\n",
      "Strint no 2, line 204: GRZEGORZ\n",
      "Strint no 2, line 206: Nie.\n",
      "Strint no 1, line 207: GRZEGORZNie.SAMSON\n",
      "Strint no 2, line 208: \n",
      "Strint no 1, line 209: Nie, panie; nie skrzywiłem się na was, tylko skrzywiłem się tak sobie.\n",
      "Strint no 2, line 209: SAMSON\n",
      "Strint no 2, line 210: \n",
      "Strint no 2, line 211: Nie, mości panie; nie skrzywiłem się na was, tylko skrzywiłem się tak sobie.GRZEGORZ\n",
      "Strint no 2, line 212: \n",
      "Strint no 2, line 213: / do Abrahama /\n",
      "Strint no 1, line 214: / do Abrahama /\n",
      "Strint no 2, line 220: Zaczepki? nie.\n",
      "Strint no 1, line 221: Zaczepki? \n",
      "Strint no 2, line 228: ABRAHAM\n",
      "Strint no 1, line 229: ABRAHAMNie lepszy.\n",
      "Strint no 2, line 230: Nie lepszy.\n",
      "Strint no 2, line 232: \n",
      "Strint no 1, line 243: Powiedz: lepszy. Oto nadchodzi z krewnych mego pana.\n",
      "Strint no 2, line 244: Powiedz: lepszy. Oto nadchodzi jeden z krewnych mego pana.\n",
      "Strint no 1, line 258: Dobądźcie jeśli serca. Grzegorzu, pamiętaj o swoim pchnięciu.\n",
      "Strint no 2, line 259: Dobądźcie mieczów, jeśli macie serca. Grzegorzu, pamiętaj swoim pchnięciu.\n",
      "Strint no 2, line 277: \n",
      "Strint no 1, line 278: Przywracam tylko pokój. Włóż miecz nazad\n",
      "Strint no 2, line 278: \n",
      "Strint no 1, line 279: Albo wraz ze mną rozdziel nim tych ludzi.\n",
      "Strint no 2, line 279: Przywracam tylko pokój. Włóż miecz nazad\n",
      "Strint no 2, line 280: Albo wraz ze mną rozdziel nim ludzi.\n",
      "Strint no 1, line 286: Szatana, wszystkich Montekich i ciebie.Broń się, nikczemny tchórzu.\n",
      "Strint no 2, line 287: Szatana, wszystkich Montekich i ciebie.\n",
      "Strint no 2, line 288: Broń się, nikczemny tchórzu.\n",
      "Strint no 1, line 293: Hola! berdyszów! pałek! Dalej po nich!\n",
      "Strint no 1, line 294: Precz z Montekimi, precz z Kapuletami!\n",
      "Strint no 2, line 295: berdyszów! pałek! Dalej po nich!\n",
      "Strint no 2, line 296: Precz z Montekimi, z Kapuletami!\n",
      "Strint no 1, line 301: Co za hałas? Podajcie mi długi\n",
      "Strint no 2, line 301: \n",
      "Strint no 2, line 302: \n",
      "Strint no 2, line 303: Co za hałas? Podajcie mi długi\n",
      "Strint no 1, line 312: Miecz, mówię! Stary Monteki nadchodzi.\n",
      "Strint no 2, line 314: Miecz, mówię! Stary Monteki \n",
      "Strint no 1, line 329: Nie puszczę cię krok, gdy wróg przed tobą.\n",
      "Strint no 2, line 331: Nie puszczę cię na krok, gdy wróg przed tobą.\n",
      "Strint no 1, line 336: Zapamiętali niesforni poddani,\n",
      "Strint no 1, line 337: Bezcześciciele bratniej stali! Cóż to,\n",
      "Strint no 2, line 338: Zapamiętali niesforni \n",
      "Strint no 1, line 339: Co swoich gniewów żar gasicie\n",
      "Strint no 2, line 339: bratniej stali! Cóż to,\n",
      "Strint no 2, line 341: Co wściekłych swoich gniewów żar gasicie\n",
      "Strint no 1, line 344: Wasz rozjątrzony książę postanawia.\n",
      "Strint no 2, line 346: Wasz rozjątrzony postanawia.\n",
      "Strint no 1, line 347: Trzykroć już spokój miasta zakłóciły,\n",
      "Strint no 2, line 349: Trzykroć już miasta zakłóciły,\n",
      "Strint no 1, line 350: Porzucić swoje przybory\n",
      "Strint no 2, line 352: Porzucić swoje wygodne przybory\n",
      "Strint no 1, line 356: A teraz ustąpcie niezwłocznie.\n",
      "Strint no 1, line 358: Ty zaś, Monteki, przyjdziesz po południu\n",
      "Strint no 2, line 358: A teraz wszyscy ustąpcie niezwłocznie.\n",
      "Strint no 1, line 359: Na ratusz, gdzie ci dokładnie w względzie\n",
      "Strint no 2, line 360: Ty zaś, Monteki, przyjdziesz po \n",
      "Strint no 2, line 361: Na ratusz, gdzie ci dokładnie w tym względzie\n",
      "Strint no 1, line 362: Pod karą śmierci, się rozeszli.\n",
      "Strint no 2, line 364: Pod karą śmierci, aby się rozeszli.\n",
      "Strint no 1, line 370: Był żeś tu się to zaczęło?\n",
      "Strint no 2, line 372: Był żeś tu wtedy, gdy się to zaczęło?\n",
      "Strint no 1, line 377: broni, aby ich rozdzielić:\n",
      "Strint no 1, line 378: Wtem wpadł szalony z gołym mieczem,I harde zionąc mi w uszy wyzwanie,\n",
      "Strint no 1, line 379: Jął się wywijać nim i siec powietrze,\n",
      "Strint no 2, line 379: Dobyłem broni, aby ich rozdzielić:\n",
      "Strint no 1, line 380: Które świszczało tylko szydząc z marnych\n",
      "Strint no 2, line 380: Wtem wpadł szalony Tybalt z gołym mieczem,\n",
      "Strint no 2, line 381: I harde zionąc mi w uszy wyzwanie,\n",
      "Strint no 2, line 382: Jął się wywijać nim i siec powietrze,Które tylko szydząc z marnych\n",
      "Strint no 1, line 383: Większy tłum ludzi; obu stron walczono,\n",
      "Strint no 2, line 385: Większy tłum ludzi; z obu stron walczono,\n",
      "Strint no 1, line 389: Lecz gdzież Romeo? Widział żeś go \n",
      "Strint no 1, line 390: Jakże się cieszę, że nie był w tym starciu.\n",
      "Strint no 2, line 391: Lecz gdzież Romeo? Widział żeś go dzisiaj?\n",
      "Strint no 2, line 392: Jakże się cieszę, że nie był w tym \n",
      "Strint no 1, line 401: Ledwiem go ujrzał, pobiegłem ku \n",
      "Strint no 1, line 402: Lecz on, spostrzegłszy mię, skrył się natychmiast\n",
      "Strint no 2, line 403: Ledwiem go ujrzał, pobiegłem ku niemu;\n",
      "Strint no 2, line 404: on, spostrzegłszy mię, się natychmiast\n",
      "Strint no 1, line 405: Mierząc mym własnym (serce nasze bowiem\n",
      "Strint no 1, line 406: najczynniejsze, kiedyśmy samotni),\n",
      "Strint no 2, line 407: mym (serce nasze bowiem\n",
      "Strint no 2, line 408: Jest najczynniejsze, kiedyśmy samotni),\n",
      "Strint no 1, line 409: Stroniąc od tego, co mnie unikał.\n",
      "Strint no 2, line 411: Stroniąc od tego, co rad mnie unikał.\n",
      "Strint no 1, line 414: Nieraz o świcie już go tam widziano\n",
      "Strint no 2, line 414: MONTEKI\n",
      "Strint no 1, line 416: A chmury — swego oblicza chmurami,Aliści ledwo na najdalszym wschodzie\n",
      "Strint no 2, line 416: Nieraz o świcie już go tam widziano\n",
      "Strint no 1, line 417: Wesołe sprzed łoża \n",
      "Strint no 2, line 418: A chmury — swego oblicza chmurami,\n",
      "Strint no 1, line 419: On, uciekając od widoku światła,\n",
      "Strint no 2, line 419: Aliści ledwo na najdalszym wschodzie\n",
      "Strint no 1, line 420: Co tchu zamykał w swoim pokoju;\n",
      "Strint no 2, line 420: Wesołe słońce sprzed łoża Aurory\n",
      "Strint no 2, line 422: On, uciekając od światła,\n",
      "Strint no 2, line 423: Co tchu zamykał się w swoim pokoju;\n",
      "Strint no 1, line 424: się na to lekarstwo nie znajdzie.\n",
      "Strint no 2, line 427: Jeśli się na to lekarstwo nie znajdzie.\n",
      "Strint no 1, line 434: Nie znam i niego wydobyć nie mogę.\n",
      "Strint no 2, line 437: Nie znam z niego wydobyć nie mogę.\n",
      "Strint no 1, line 444: Wybadywałem i sam, i przez drugich,\n",
      "Strint no 2, line 447: Wybadywałem i sam, przez drugich,\n",
      "Strint no 1, line 450: I swoją rozwinął przed słońcem.\n",
      "Strint no 2, line 453: I pełność swoją przed słońcem.\n",
      "Strint no 1, line 454: / Romeo się w głębi. /\n",
      "Strint no 2, line 457: / Romeo ukazuje się w głębi. /\n",
      "Strint no 1, line 465: Obyś w tej sprawie, co nam serce \n",
      "Strint no 1, line 466: Mógł być szczęśliwszym od nas! Pójdźmy, pani./ Wychodzą Monteki i Pani Monteki. /\n",
      "Strint no 2, line 468: Obyś w tej sprawie, co nam serce rani,\n",
      "Strint no 2, line 469: Mógł być szczęśliwszym od nas! Pójdźmy, pani.\n",
      "Strint no 1, line 471: Dzień dobry, bracie.\n",
      "Strint no 2, line 471: / Wychodzą Monteki i Pani Monteki. /\n",
      "Strint no 2, line 473: Dzień dobry, bracie.\n",
      "Strint no 2, line 474: \n",
      "Strint no 2, line 475: \n",
      "Strint no 1, line 476:                         Jeszcze–ż nie południe?\n",
      "Strint no 2, line 476: ROMEO\n",
      "Strint no 2, line 477: \n",
      "Strint no 2, line 478:                         Jeszcze–ż nie południe?\n",
      "Strint no 1, line 486:                         Jak nudnie\n",
      "Strint no 1, line 487: Wloką się chwile. Moi–ż to rodzice\n",
      "Strint no 1, line 488: Tak spiesznie w tamtą zboczyli ulicę?\n",
      "Strint no 2, line 488:                         nudnie\n",
      "Strint no 2, line 489: Wloką chwile. Moi–ż to rodzice\n",
      "Strint no 2, line 490: Tak spiesznie w tamtą zboczyli \n",
      "Strint no 1, line 508:                         Brak jej.\n",
      "Strint no 2, line 510:                         Brak \n",
      "Strint no 1, line 523: Niestety! Czemuż, zdając się niebianką,\n",
      "Strint no 1, line 524: Miłość jest w gruncie tak srogą tyranką?\n",
      "Strint no 2, line 525: Niestety! Czemuż, zdając niebianką,\n",
      "Strint no 2, line 526: Miłość jest w tak srogą tyranką?\n",
      "Strint no 1, line 540: Śnie bez snu! Taką to w sobie zawiłość,\n",
      "Strint no 1, line 542: Czy się nie śmiejesz?\n",
      "Strint no 2, line 542: Śnie bez snu! Taką to sobie zawiłość,\n",
      "Strint no 2, line 544: Czy się śmiejesz?\n",
      "Strint no 1, line 552: Nad czym, \n",
      "Strint no 2, line 554: Nad czym, poczciwa duszo?\n",
      "Strint no 1, line 565: Dość mi już ciężył smutek, ty jego\n",
      "Strint no 2, line 567: Dość mi już ciężył mój smutek, ty jego\n",
      "Strint no 1, line 574: Żółcią trawiącą i zbawczym balsamem.\n",
      "Strint no 1, line 575: Bądź \n",
      "Strint no 2, line 576: Żółcią trawiącą i zbawczym \n",
      "Strint no 1, line 577: / chce odejść /\n",
      "Strint no 2, line 577: Bądź zdrów.\n",
      "Strint no 2, line 579: / chce odejść /BENWOLIO\n",
      "Strint no 2, line 581:                         Zaczekaj! krzywdę byś mi sprawił,\n",
      "Strint no 1, line 582:                         Zaczekaj! krzywdę byś mi sprawił,\n",
      "Strint no 2, line 582: Gdybyś mą przyjaźń z tak zostawił.\n",
      "Strint no 1, line 583: mą przyjaźń z kwitkiem tak zostawił.\n",
      "Strint no 2, line 584: \n",
      "Strint no 2, line 585: ROMEO\n",
      "Strint no 2, line 586: \n",
      "Strint no 2, line 587: Ach! ja nie jestem tu, nie jestem sobą;\n",
      "Strint no 1, line 588: Ach! ja nie jestem tu, nie jestem sobą;\n",
      "Strint no 2, line 588: To nie Romeo, co rozmawia z tobą.\n",
      "Strint no 1, line 589: To nie Romeo, co rozmawia z tobą.\n",
      "Strint no 2, line 593: Kogóż to kochasz? mów!ROMEO\n",
      "Strint no 1, line 594: Kogóż to kochasz? mów!\n",
      "Strint no 2, line 595:                         Przestań mię dręczyć.\n",
      "Strint no 2, line 596: Mam–że wraz jęczyć i mówić?\n",
      "Strint no 2, line 598: \n",
      "Strint no 1, line 599:                         Przestań mię dręczyć.\n",
      "Strint no 2, line 599: BENWOLIO\n",
      "Strint no 1, line 600: Mam–że wraz jęczyć i mówić?\n",
      "Strint no 2, line 600: \n",
      "Strint no 2, line 601:                         Nie jęczyć,\n",
      "Strint no 1, line 605:                         Nie jęczyć,\n",
      "Strint no 2, line 609: testament: będzie–ż to wezwanie\n",
      "Strint no 2, line 611: A kobietę kocham.\n",
      "Strint no 1, line 613: Pisać testament: będzie–ż to \n",
      "Strint no 1, line 615: A więc, kobietę kocham.\n",
      "Strint no 2, line 633: A właśnieś chybił. Niczym tu kołczany\n",
      "Strint no 2, line 635: Pod twardą zbroją wstydliwości swojej\n",
      "Strint no 2, line 636: Grotów miłości wcale się nie boi;\n",
      "Strint no 1, line 637: A właśnieś chybił. Niczym tu \n",
      "Strint no 2, line 637: Szydzi z nawału zaklęć oblężniczych;\n",
      "Strint no 1, line 639: Pod twardą zbroją wstydliwości swojejGrotów miłości wcale się nie boi;\n",
      "Strint no 1, line 640: z nawału zaklęć oblężniczych;\n",
      "Strint no 2, line 663: Jest na to rada: przestań myśleć o niej.\n",
      "Strint no 1, line 666: Jest na rada: przestań myśleć o niej.\n",
      "Strint no 2, line 666: ROMEO\n",
      "Strint no 2, line 668: Doradź–że także, jakim bym sposobem\n",
      "Strint no 1, line 671: Doradź–że także, jakim bym sposobem\n",
      "Strint no 2, line 674:                         Dając oczom wolność\n",
      "Strint no 1, line 677:                         Dając oczom \n"
     ]
    }
   ],
   "source": [
    "print_differences(text1, text2, changes1, changes2)"
   ],
   "metadata": {
    "collapsed": false
   }
  }
 ],
 "metadata": {
  "kernelspec": {
   "display_name": "Python 3",
   "language": "python",
   "name": "python3"
  },
  "language_info": {
   "codemirror_mode": {
    "name": "ipython",
    "version": 2
   },
   "file_extension": ".py",
   "mimetype": "text/x-python",
   "name": "python",
   "nbconvert_exporter": "python",
   "pygments_lexer": "ipython2",
   "version": "2.7.6"
  }
 },
 "nbformat": 4,
 "nbformat_minor": 0
}
